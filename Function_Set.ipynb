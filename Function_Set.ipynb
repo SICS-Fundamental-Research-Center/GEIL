{
 "cells": [
  {
   "cell_type": "code",
   "execution_count": 5,
   "metadata": {},
   "outputs": [],
   "source": [
    "import pandas as pd\n",
    "import numpy as np\n",
    "import re"
   ]
  },
  {
   "cell_type": "code",
   "execution_count": 6,
   "metadata": {},
   "outputs": [],
   "source": [
    "## Flight-Detect\n",
    "import re\n",
    "\n",
    "def is_clean_time_format(time_str):\n",
    "    # Define a regular expression pattern for a clean time format (HH:MM a.m./p.m.)\n",
    "    time_pattern = r'^\\d{1,2}:\\d{2} (a\\.m\\.|p\\.m\\.)$'\n",
    "    \n",
    "    # Use regex to check if the time string matches the expected pattern\n",
    "    if re.match(time_pattern, time_str):\n",
    "        return True\n",
    "    else:\n",
    "        return False"
   ]
  },
  {
   "cell_type": "code",
   "execution_count": 7,
   "metadata": {},
   "outputs": [],
   "source": [
    "\n",
    "import re\n",
    "\n"
   ]
  },
  {
   "cell_type": "markdown",
   "metadata": {},
   "source": [
    "## Hospital-Detect-Function-Set\n",
    "# i = 1:\n",
    "- Query-Word\n",
    "The input \n",
    "\n",
    "[['10011', 'x00xx']]\n",
    "\n",
    "are [dirty,clean] cell pairs from table Hospital column ProviderNumber, and ['10018' '10019' '1xx19' '10001' '10005' 'x0005' '10006' '1000x' '10007'\n",
    " '10008' '10009' '10010' '10011' 'x00xx' '10012' 'x00x5' '10015' '1xx15'\n",
    " '10016' '1xx16' '10038' '100x8' '10055' '10056' '10085' '10086' '100x6'\n",
    " '10087' '10108' 'x0x08' '10158' '10164' '20017' '20018' '10021' '10022'\n",
    " '10023' '10024' '1xx24' '10025' '10027' 'x0027' '10029' 'x0029' '1xx29'\n",
    " '10032' '1xx32' '10033' '10034' '100x4' '10035' '100x5' '1xx35' '10036'\n",
    " '1xx36' '10039' '1003x' '1xx39' '100x9' '10040' '10043' '10044' '1xx44'\n",
    " '10045' '1xx45' 'x0045' '10046' '10047' '1xx47' '1004x' '10049' '10050'] are examples of all cells from this columns. Please conclude a general pattern for dirty and clean cells, and write a general function with regular expression to detect whether a given cell is dirty or not"
   ]
  },
  {
   "cell_type": "code",
   "execution_count": 17,
   "metadata": {},
   "outputs": [
    {
     "data": {
      "text/plain": [
       "('20017', '2x017')"
      ]
     },
     "execution_count": 17,
     "metadata": {},
     "output_type": "execute_result"
    }
   ],
   "source": [
    "\n",
    "## Hospital-Detect-Function-Set\n",
    "# i = 1:\n",
    "import random\n",
    "def is_dirty(cell):\n",
    "    \"\"\"Return True if the cell is dirty, otherwise False.\"\"\"\n",
    "    # If the cell matches the pattern of 5 digits, it's clean.\n",
    "    # If not, it's dirty.\n",
    "    return not bool(re.match(r'^\\d{5}$', cell))\n",
    "# Hospital i=1 F_{generate}\n",
    "def generate_dirty_cell(cells):\n",
    "    \"\"\"Generate a random dirty cell based on the input cells.\"\"\"\n",
    "    # Randomly select a cell from the input cells.\n",
    "    cell = random.choice([c for c in cells if not is_dirty(c)])\n",
    "    \n",
    "    # Randomly select a position in the cell.\n",
    "    position = random.randint(0, len(cell) - 1)\n",
    "    \n",
    "    # Replace the character at that position with 'x'.\n",
    "    dirty_cell = cell[:position] + 'x' + cell[position+1:]\n",
    "    \n",
    "    return cell,dirty_cell\n",
    "## Hospital-Repair-Function-Set\n",
    "None"
   ]
  },
  {
   "cell_type": "code",
   "execution_count": 21,
   "metadata": {},
   "outputs": [
    {
     "data": {
      "text/plain": [
       "('southeast alabama medical center', 'southeast alabama medical centxr')"
      ]
     },
     "execution_count": 21,
     "metadata": {},
     "output_type": "execute_result"
    }
   ],
   "source": [
    "import re\n",
    "\n",
    "def is_dirty(cell):\n",
    "    # Regular expression to detect the character 'x'\n",
    "    pattern = re.compile(r'x', re.IGNORECASE)\n",
    "    \n",
    "    if pattern.search(cell):\n",
    "        return True\n",
    "    return False\n",
    "def generate_dirty_cell(cells):\n",
    "    \"\"\"Generate a random dirty cell based on the input cells.\"\"\"\n",
    "    # Randomly select a cell from the input cells.\n",
    "    cell = random.choice([c for c in cells if not is_dirty(c)])\n",
    "    \n",
    "    # Randomly select a position in the cell.\n",
    "    position = random.randint(0, len(cell) - 1)\n",
    "    \n",
    "    # Replace the character at that position with 'x'.\n",
    "    dirty_cell = cell[:position] + 'x' + cell[position+1:]\n",
    "    \n",
    "    return cell,dirty_cell\n",
    "# Test\n",
    "generate_dirty_cell(['callahan eye foundation hospital', 'helen keller memorial hospital', 'southeast alabama medical center'])"
   ]
  },
  {
   "cell_type": "code",
   "execution_count": null,
   "metadata": {},
   "outputs": [],
   "source": [
    "i = 3\n",
    "def is_dirty(cell):\n",
    "    # Regular expression to detect the character 'x'\n",
    "    pattern = re.compile(r'x', re.IGNORECASE)\n",
    "    \n",
    "    if pattern.search(cell):\n",
    "        return True\n",
    "    return False\n",
    "def generate_dirty_cell(cells):\n",
    "    \"\"\"Generate a random dirty cell based on the input cells.\"\"\"\n",
    "    # Randomly select a cell from the input cells.\n",
    "    cell = random.choice([c for c in cells if not is_dirty(c)])\n",
    "    \n",
    "    # Randomly select a position in the cell.\n",
    "    position = random.randint(0, len(cell) - 1)\n",
    "    \n",
    "    # Replace the character at that position with 'x'.\n",
    "    dirty_cell = cell[:position] + 'x' + cell[position+1:]\n",
    "    \n",
    "    return cell,dirty_cell\n",
    "None"
   ]
  },
  {
   "cell_type": "code",
   "execution_count": null,
   "metadata": {},
   "outputs": [],
   "source": [
    "i = 6\n",
    "def is_dirty(cell):\n",
    "    # Regular expression to detect the character 'x'\n",
    "    pattern = re.compile(r'x', re.IGNORECASE)\n",
    "    \n",
    "    if pattern.search(cell):\n",
    "        return True\n",
    "    return False\n",
    "def generate_dirty_cell(cells):\n",
    "    \"\"\"Generate a random dirty cell based on the input cells.\"\"\"\n",
    "    # Randomly select a cell from the input cells.\n",
    "    cell = random.choice([c for c in cells if not is_dirty(c)])\n",
    "    \n",
    "    # Randomly select a position in the cell.\n",
    "    position = random.randint(0, len(cell) - 1)\n",
    "    \n",
    "    # Replace the character at that position with 'x'.\n",
    "    dirty_cell = cell[:position] + 'x' + cell[position+1:]\n",
    "    \n",
    "    return cell,dirty_cell\n",
    "None"
   ]
  },
  {
   "cell_type": "code",
   "execution_count": null,
   "metadata": {},
   "outputs": [],
   "source": [
    "i = 7\n",
    "def is_dirty(cell):\n",
    "    # Regular expression to detect the character 'x'\n",
    "    pattern = re.compile(r'x', re.IGNORECASE)\n",
    "    \n",
    "    if pattern.search(cell):\n",
    "        return True\n",
    "    return False\n",
    "def generate_dirty_cell(cells):\n",
    "    \"\"\"Generate a random dirty cell based on the input cells.\"\"\"\n",
    "    # Randomly select a cell from the input cells.\n",
    "    cell = random.choice([c for c in cells if not is_dirty(c)])\n",
    "    \n",
    "    # Randomly select a position in the cell.\n",
    "    position = random.randint(0, len(cell) - 1)\n",
    "    \n",
    "    # Replace the character at that position with 'x'.\n",
    "    dirty_cell = cell[:position] + 'x' + cell[position+1:]\n",
    "    \n",
    "    return cell,dirty_cell\n",
    "def correct_dirty_cell(cell):\n",
    "    mapping = {\n",
    "    'xl': 'al',\n",
    "    'ax': 'al',\n",
    "}\n",
    "    return mapping.get(cell, cell)  # Return the corrected value if it exists in the mapping, otherwise return the original cell\n",
    "\n",
    "# Create a mapping based on the provided [clean, dirty] pairs\n",
    "\n",
    "\n",
    "# Test\n",
    "\n"
   ]
  },
  {
   "cell_type": "markdown",
   "metadata": {},
   "source": [
    "15:No sample"
   ]
  },
  {
   "cell_type": "code",
   "execution_count": null,
   "metadata": {},
   "outputs": [],
   "source": [
    "i = 8,9,10,11,12,14,16,17,18,19\n",
    "def is_dirty(cell):\n",
    "    # Regular expression to detect the character 'x'\n",
    "    pattern = re.compile(r'x', re.IGNORECASE)\n",
    "    \n",
    "    if pattern.search(cell):\n",
    "        return True\n",
    "    return False\n",
    "def generate_dirty_cell(cells):\n",
    "    \"\"\"Generate a random dirty cell based on the input cells.\"\"\"\n",
    "    # Randomly select a cell from the input cells.\n",
    "    cell = random.choice([c for c in cells if not is_dirty(c)])\n",
    "    \n",
    "    # Randomly select a position in the cell.\n",
    "    position = random.randint(0, len(cell) - 1)\n",
    "    \n",
    "    # Replace the character at that position with 'x'.\n",
    "    dirty_cell = cell[:position] + 'x' + cell[position+1:]\n",
    "    \n",
    "    return cell,dirty_cell\n",
    "None"
   ]
  },
  {
   "cell_type": "code",
   "execution_count": 25,
   "metadata": {},
   "outputs": [
    {
     "name": "stdout",
     "output_type": "stream",
     "text": [
      "Original: yes\n",
      "Dirty: yes\n",
      "\n",
      "Original: yxs\n",
      "Corrected: yes\n",
      "\n",
      "Original: yex\n",
      "Corrected: yes\n",
      "\n",
      "Original: no\n",
      "Dirty: no\n",
      "\n",
      "Original: xes\n",
      "Corrected: yes\n",
      "\n",
      "Original: xo\n",
      "Corrected: no\n",
      "\n"
     ]
    }
   ],
   "source": [
    "\n",
    "i = 13\n",
    "import re\n",
    "\n",
    "def is_dirty(cell):\n",
    "    # Regular expression to detect the character 'x'\n",
    "    pattern = re.compile(r'x', re.IGNORECASE)\n",
    "    return bool(pattern.search(cell))\n",
    "\n",
    "def correct_dirty_cell(cell, mapping):\n",
    "    return mapping.get(cell, cell)  # Return the corrected value if it exists in the mapping, otherwise return the original cell\n",
    "\n",
    "# Create a mapping based on the provided [clean, dirty] pairs\n",
    "mapping = {\n",
    "    'yxs': 'yes',\n",
    "    'yex': 'yes',\n",
    "    'xes': 'yes',\n",
    "    'xo': 'no'\n",
    "}\n",
    "\n",
    "# Test\n",
    "cells = ['yes', 'yxs', 'yex', 'no', 'xes', 'xo']\n",
    "\n",
    "for cell in cells:\n",
    "    print(f\"Original: {cell}\")\n",
    "    if is_dirty(cell):\n",
    "        print(f\"Corrected: {correct_dirty_cell(cell, mapping)}\\n\")\n",
    "    else:\n",
    "        print(f\"Dirty: {correct_dirty_cell(cell, mapping)}\\n\")\n"
   ]
  },
  {
   "cell_type": "code",
   "execution_count": null,
   "metadata": {},
   "outputs": [],
   "source": [
    "### Flight\n",
    "import re\n",
    "\n",
    "def is_clean_time_format(time_str):\n",
    "    # Define a regular expression pattern for a clean time format (HH:MM a.m./p.m.)\n",
    "    time_pattern = r'^\\d{1,2}:\\d{2} (a\\.m\\.|p\\.m\\.)$'\n",
    "    \n",
    "    # Use regex to check if the time string matches the expected pattern\n",
    "    if re.match(time_pattern, time_str):\n",
    "        return True\n",
    "    else:\n",
    "        return False"
   ]
  },
  {
   "cell_type": "code",
   "execution_count": 3,
   "metadata": {},
   "outputs": [
    {
     "name": "stdout",
     "output_type": "stream",
     "text": [
      "Original: 12\n",
      "Dirty: 12 oz. Alumi-Tek\n",
      "\n",
      "Original: 16\n",
      "Dirty: 16 ounce\n",
      "\n",
      "Original: 24\n",
      "Dirty: 24 oz. Silo Can\n",
      "\n"
     ]
    }
   ],
   "source": [
    "\n",
    "import re\n",
    "i = 4\n",
    "def is_dirty(cell):\n",
    "    # Regular expression to detect if the cell contains anything other than whole numbers represented as strings\n",
    "    pattern = re.compile(r'^\\d+$')\n",
    "    return not bool(pattern.match(cell))\n",
    "\n",
    "# Test\n",
    "# cells = ['12', '12.0 oz', '12.0 oz.', '12.0 ounce', '12.0 OZ.', '12.0 oz. Alumi-Tek', '8.4 ounce', '16', '16.0 ounce', '16.0 oz.', '16.0 oz. Alumi-Tek', '16.0 oz', '16.0 OZ.', '12.0 oz. Silo Can', '16.0 oz. Silo Can', '24.0 oz.', '24.0 oz']\n",
    "\n",
    "# for cell in cells:\n",
    "#     print(f\"Cell: {cell} - {'Dirty' if is_dirty(cell) else 'Clean'}\")\n",
    "import random\n",
    "\n",
    "def generate_dirty_cell(cell):\n",
    "    descriptors = [\" oz.\", \" ounce\", \" OZ.\", \" oz. Alumi-Tek\", \" oz. Silo Can\"]\n",
    "    \n",
    "    # Randomly choose a descriptor\n",
    "    descriptor = random.choice(descriptors)\n",
    "    \n",
    "    # Append the descriptor to the cell to make it dirty\n",
    "    dirty_cell = cell + descriptor\n",
    "    \n",
    "    return dirty_cell\n",
    "\n",
    "# Test\n",
    "cells = ['12', '16', '24']\n",
    "\n",
    "for cell in cells:\n",
    "    print(f\"Original: {cell}\")\n",
    "    print(f\"Dirty: {generate_dirty_cell(cell)}\\n\")\n",
    "def correct_dirty_cell(cell):\n",
    "    # Regular expression to extract the numeric value from the cell\n",
    "    match = re.search(r'(\\d+(\\.\\d+)?)', cell)\n",
    "    if match:\n",
    "        value = match.group(1)\n",
    "        # Convert to integer string if the value ends with \".0\"\n",
    "        if value.endswith('.0'):\n",
    "            return str(int(float(value)))\n",
    "        return value\n",
    "    return cell\n"
   ]
  },
  {
   "cell_type": "code",
   "execution_count": null,
   "metadata": {},
   "outputs": [],
   "source": []
  },
  {
   "cell_type": "code",
   "execution_count": 4,
   "metadata": {},
   "outputs": [
    {
     "data": {
      "text/plain": [
       "'16'"
      ]
     },
     "execution_count": 4,
     "metadata": {},
     "output_type": "execute_result"
    }
   ],
   "source": [
    "correct_dirty_cell('16.0 ounces')"
   ]
  },
  {
   "cell_type": "code",
   "execution_count": 40,
   "metadata": {},
   "outputs": [
    {
     "name": "stdout",
     "output_type": "stream",
     "text": [
      "Cell: 0.05 - Clean\n",
      "Cell: 0.066 - Clean\n",
      "Cell: 0.071 - Clean\n",
      "Cell: 0.09% - Dirty\n",
      "Cell: 0.075 - Clean\n",
      "Cell: 0.077 - Clean\n",
      "Cell: 0.045% - Dirty\n",
      "Cell: 0.065 - Clean\n",
      "Cell: 0.055 - Clean\n",
      "Cell: 0.086 - Clean\n",
      "Cell: 0.072 - Clean\n",
      "Cell: 0.073 - Clean\n",
      "Cell: 0.069% - Dirty\n",
      "Cell: 0.085 - Clean\n",
      "Cell: 0.061% - Dirty\n"
     ]
    }
   ],
   "source": [
    "import re\n",
    "i = 5\n",
    "def is_dirty(cell):\n",
    "    # Regular expression to detect if the cell contains \"%\" or has more than three decimal places\n",
    "    pattern = re.compile(r'%|^\\d+\\.\\d{4,}$')\n",
    "    return bool(pattern.search(cell))\n",
    "import random\n",
    "\n",
    "def generate_dirty_cell(cell):\n",
    "    choices = [\"append_percent\", \"alter_float\"]\n",
    "    action = random.choice(choices)\n",
    "    \n",
    "    if action == \"append_percent\":\n",
    "        return cell + \"%\"\n",
    "    elif action == \"alter_float\" and \".\" in cell:\n",
    "        # Introduce a small random change to the floating point\n",
    "        parts = cell.split(\".\")\n",
    "        if len(parts[1]) == 3:\n",
    "            last_digit = str(int(parts[1][2]) + random.choice([-1, 1]) % 10)  # Increment or decrement the last digit\n",
    "            return parts[0] + \".\" + parts[1][:2] + last_digit + \"%\"\n",
    "    return cell  # If no action is taken, return the original cell\n",
    "# # Test\n",
    "# cells = ['0.05', '0.066', '0.071', '0.09%', '0.075', '0.077', '0.045%', '0.065', '0.055', '0.086', '0.072', '0.073', '0.069%', '0.085', '0.061%']\n",
    "\n",
    "# for cell in cells:\n",
    "#     print(f\"Cell: {cell} - {'Dirty' if is_dirty(cell) else 'Clean'}\")\n"
   ]
  },
  {
   "cell_type": "code",
   "execution_count": 43,
   "metadata": {},
   "outputs": [
    {
     "name": "stdout",
     "output_type": "stream",
     "text": [
      "Cell: Bend - Clean\n",
      "Cell: Gary - Clean\n",
      "Cell: Corvallis - Clean\n",
      "Cell: San Francisco - Clean\n",
      "Cell: San Francisco CA - Dirty\n",
      "Cell: St Petersburg - Clean\n",
      "Cell: Saint Louis - Clean\n",
      "Cell: Saint Louis MO - Dirty\n",
      "Cell: Columbus - Clean\n",
      "Cell: Gig Harbor - Clean\n",
      "Cell: Dunedin - Clean\n",
      "Cell: Golden - Clean\n",
      "Cell: Abita Springs - Clean\n",
      "Cell: Louisville - Clean\n",
      "Cell: Kent - Clean\n"
     ]
    }
   ],
   "source": [
    "import re\n",
    "i = 9\n",
    "def is_dirty(cell):\n",
    "    # Regular expression to detect if the cell contains a state abbreviation (two uppercase letters) at the end\n",
    "    pattern = re.compile(r'\\b[A-Z]{2}$')\n",
    "    return bool(pattern.search(cell))\n",
    "\n",
    "# # Test\n",
    "# cells = ['Bend', 'Gary', 'Corvallis', 'San Francisco', 'San Francisco CA', 'St Petersburg', 'Saint Louis', 'Saint Louis MO', 'Columbus', 'Gig Harbor', 'Dunedin', 'Golden', 'Abita Springs', 'Louisville', 'Kent']\n",
    "\n",
    "# for cell in cells:\n",
    "#     print(f\"Cell: {cell} - {'Dirty' if is_dirty(cell) else 'Clean'}\")\n",
    "def generate_dirty_cell(cell):\n",
    "    # List of some common state abbreviations\n",
    "    state_abbreviations = ['AL', 'AK', 'AZ', 'AR', 'CA', 'CO', 'CT', 'DE', 'FL', 'GA', 'HI', 'ID', 'IL', 'IN', 'IA', 'KS', 'KY', 'LA', 'ME', 'MD', 'MA', 'MI', 'MN', 'MS', 'MO', 'MT', 'NE', 'NV', 'NH', 'NJ', 'NM', 'NY', 'NC', 'ND', 'OH', 'OK', 'OR', 'PA', 'RI', 'SC', 'SD', 'TN', 'TX', 'UT', 'VT', 'VA', 'WA', 'WV', 'WI', 'WY']\n",
    "    \n",
    "    # Randomly choose a state abbreviation\n",
    "    state = random.choice(state_abbreviations)\n",
    "    \n",
    "    # Append the state abbreviation to the cell to make it dirty\n",
    "    dirty_cell = cell + \" \" + state\n",
    "    \n",
    "    return dirty_cell\n"
   ]
  },
  {
   "cell_type": "code",
   "execution_count": 44,
   "metadata": {},
   "outputs": [
    {
     "name": "stdout",
     "output_type": "stream",
     "text": [
      "Original cells: ['Bend', 'Gary', 'Corvallis', 'San Francisco', 'San Francisco CA', 'St Petersburg', 'Saint Louis', 'Saint Louis MO', 'Columbus', 'Gig Harbor', 'Dunedin', 'Golden', 'Abita Springs', 'Louisville', 'Kent']\n",
      "Dirty cell: ''\n"
     ]
    }
   ],
   "source": [
    "i = -1\n",
    "def is_dirty(cell):\n",
    "    # If the cell is an empty string, it's considered dirty\n",
    "    return cell == \"\"\n",
    "def generate_dirty_cell():\n",
    "    cells = ['OR', 'IN', 'CA', 'FL', 'MO', 'WA', 'CO', 'LA', 'KY', 'AK', 'WI', 'OH', 'OK', 'NC']\n",
    "    # Randomly choose a cell from the input cells\n",
    "    chosen_cell = random.choice(cells)\n",
    "    \n",
    "    # Make the chosen cell dirty by returning an empty string\n",
    "    return \"\"\n",
    "\n",
    "# Test\n",
    "\n",
    "\n",
    "print(f\"Original cells: {cells}\")\n",
    "print(f\"Dirty cell: '{generate_dirty_cell()}'\")"
   ]
  },
  {
   "cell_type": "code",
   "execution_count": null,
   "metadata": {},
   "outputs": [],
   "source": [
    "## Rayyan\n",
    "import re\n",
    "i = 1,3,10\n",
    "def is_dirty(cell):\n",
    "    # Regular expression to detect if the cell contains special characters or combining diacritical marks\n",
    "    pattern = re.compile(r'[�\\u0300-\\u036F]')\n",
    "    return bool(pattern.search(cell))\n",
    "\n",
    "# Test\n",
    "# cells_to_check = ['Late repair of injuries of the anal sphincter', 'Ebola Virus GP Gene Polyadenylation Versus RNA Editing.', 'Duane retraction syndrome associated with oculocutaneous albinism: an ocular miswiring.', '[Noninvasive prenatal diagnosis of trisomy 21, 18 and 13 using cell-free fetal DNA]', 'Diagnosis and Management of Cutaneous B-cell Lymphoma.']\n",
    "\n",
    "# for cells in rayyan_dirty[rayyan_dirty.iloc[:,1]!=rayyan_clean.iloc[:,1]].iloc[:,1].to_list():\n",
    "#     cell = cells\n",
    "#     print(f\"Cell: {cell}\")\n",
    "#     print(f\"Status: {'Dirty' if is_dirty(cell) else 'Clean'}\\n\")\n",
    "import re\n",
    "\n",
    "def clean_cell(cell):\n",
    "    # Remove special characters like �\n",
    "    cleaned = re.sub(r'�', '', cell)\n",
    "    \n",
    "    # Remove combining diacritical marks (from Unicode range U+0300 to U+036F)\n",
    "    cleaned = re.sub(r'[\\u0300-\\u036F]', '', cleaned)\n",
    "    \n",
    "    return cleaned\n",
    "def generate_dirty_cell(cell):\n",
    "    # List of special characters and combining diacritical marks\n",
    "    special_chars = ['�', '\\u0301', '\\u0300', '\\u0302', '\\u0303', '\\u0304']\n",
    "    \n",
    "    # Randomly choose a special character\n",
    "    char = random.choice(special_chars)\n",
    "    \n",
    "    # Randomly choose a position to insert the special character\n",
    "    position = random.randint(0, len(cell))\n",
    "    \n",
    "    # Insert the special character at the chosen position\n",
    "    dirty_cell = cell[:position] + char + cell[position:]\n",
    "    \n",
    "    return dirty_cell\n",
    "\n"
   ]
  },
  {
   "cell_type": "code",
   "execution_count": 76,
   "metadata": {},
   "outputs": [],
   "source": [
    "import re\n",
    "i = 5\n",
    "def is_dirty(cell):\n",
    "    # Regular expression to detect if the cell is in the format Mon-DD\n",
    "    date_pattern = re.compile(r'^[A-Za-z]{3}-\\d{1,2}$')\n",
    "    \n",
    "    # Regular expression to detect if the ISSN starts with a number other than 9\n",
    "    issn_pattern = re.compile(r'^[^9]\\d{12}$')\n",
    "    \n",
    "    return bool(date_pattern.match(cell) or issn_pattern.match(cell))\n",
    "def generate_dirty_cell(cell):\n",
    "    # If the cell matches the format DD-Mon, reverse it to Mon-DD\n",
    "    date_match = re.match(r'(\\d{1,2})-([A-Za-z]{3})', cell)\n",
    "    if date_match:\n",
    "        return f\"{date_match.group(2)}-{date_match.group(1)}\"\n",
    "    \n",
    "    # If the cell matches the ISSN format starting with '9', change the leading '9' to another number\n",
    "    issn_match = re.match(r'^9\\d{12}$', cell)\n",
    "    if issn_match:\n",
    "        return f\"{random.choice(['0', '1', '2', '3', '4', '5', '6', '7', '8'])}{cell[1:]}\"\n",
    "    \n",
    "    return cell\n",
    "def clean_cell(cell):\n",
    "    # If the cell matches the format Mon-DD, reverse it to DD-Mon\n",
    "    date_match = re.match(r'([A-Za-z]{3})-(\\d{1,2})', cell)\n",
    "    if date_match:\n",
    "        return f\"{date_match.group(2)}-{date_match.group(1)}\"\n",
    "    \n",
    "    # If the cell matches the ISSN format not starting with '9', replace the leading digit with '9'\n",
    "    issn_match = re.match(r'^[^9]\\d{12}$', cell)\n",
    "    if issn_match:\n",
    "        return f\"9{cell[1:]}\"\n",
    "    \n",
    "    return cell  # If no patterns match, return the original cell"
   ]
  },
  {
   "cell_type": "code",
   "execution_count": 77,
   "metadata": {},
   "outputs": [
    {
     "data": {
      "text/plain": [
       "False"
      ]
     },
     "execution_count": 77,
     "metadata": {},
     "output_type": "execute_result"
    }
   ],
   "source": [
    "is_dirty('1361-9209')"
   ]
  },
  {
   "cell_type": "code",
   "execution_count": null,
   "metadata": {},
   "outputs": [],
   "source": [
    "import re\n",
    "i = 7\n",
    "def is_dirty(cell):\n",
    "    # Regular expression to detect if the cell is an empty string\n",
    "    pattern = re.compile(r'^\\s*$')\n",
    "    return bool(pattern.match(cell))\n",
    "\n",
    "# Test\n",
    "def generate_dirty_cell(cell):\n",
    "    return \"\"\n",
    "def correct_dirty_cell(cell):\n",
    "    return \"-1\"\n"
   ]
  },
  {
   "cell_type": "code",
   "execution_count": 80,
   "metadata": {},
   "outputs": [
    {
     "name": "stdout",
     "output_type": "stream",
     "text": [
      "May-51 is dirty? False\n",
      "51-5 is dirty? True\n",
      "3111-9 is dirty? True\n",
      "714-9 ST  - [Noninvasive prenatal diagnosis of trisomy 21, 18 and 13 using cell-free fetal DNA]- is dirty? False\n",
      "835-40 is dirty? True\n",
      "S40 is dirty? False\n"
     ]
    }
   ],
   "source": [
    "import re\n",
    "\n",
    "def is_dirty(cell):\n",
    "    # Pattern for clean cells\n",
    "    clean_pattern = re.compile(r'^[A-Za-z]{3}-\\d{2}$')\n",
    "    \n",
    "    # Pattern for dirty cells with Year-MonthNumber format\n",
    "    dirty_pattern1 = re.compile(r'^\\d{2}-\\d{1,2}$')\n",
    "    \n",
    "    # Pattern for dirty cells with extra numbers before the year\n",
    "    dirty_pattern2 = re.compile(r'^\\d{3,}-\\d{1,2}$')\n",
    "    \n",
    "    if clean_pattern.match(cell):\n",
    "        return False\n",
    "    elif dirty_pattern1.match(cell) or dirty_pattern2.match(cell):\n",
    "        return True\n",
    "    else:\n",
    "        return False\n",
    "\n",
    "# Test\n",
    "test_cells = ['May-51', '51-5', '3111-9', '714-9 ST  - [Noninvasive prenatal diagnosis of trisomy 21, 18 and 13 using cell-free fetal DNA]-', '835-40', 'S40']\n",
    "for cell in test_cells:\n",
    "    print(f\"{cell} is dirty? {is_dirty(cell)}\")\n"
   ]
  },
  {
   "cell_type": "code",
   "execution_count": 85,
   "metadata": {},
   "outputs": [
    {
     "data": {
      "text/plain": [
       "True"
      ]
     },
     "execution_count": 85,
     "metadata": {},
     "output_type": "execute_result"
    }
   ],
   "source": [
    "is_dirty('70-6')"
   ]
  },
  {
   "cell_type": "code",
   "execution_count": 81,
   "metadata": {},
   "outputs": [
    {
     "name": "stdout",
     "output_type": "stream",
     "text": [
      "May-51 -> 719951-5\n",
      "Jun-70 -> 70-6\n",
      "Jun-93 -> 192193-6\n",
      "Sep-11 -> 11-9\n",
      "Aug-91 -> 91-8\n",
      "Jul-72 -> 920172-7\n"
     ]
    }
   ],
   "source": [
    "import re\n",
    "import random\n",
    "\n",
    "def generate_dirty(cell):\n",
    "    # Extract month and year from the clean format\n",
    "    match = re.match(r'([A-Za-z]{3})-(\\d{2})', cell)\n",
    "    if not match:\n",
    "        return cell  # Return the original cell if it doesn't match the clean format\n",
    "    \n",
    "    month, year = match.groups()\n",
    "    \n",
    "    # Convert month to its corresponding number\n",
    "    month_to_num = {\n",
    "        'Jan': '1', 'Feb': '2', 'Mar': '3', 'Apr': '4', 'May': '5', 'Jun': '6',\n",
    "        'Jul': '7', 'Aug': '8', 'Sep': '9', 'Oct': '10', 'Nov': '11', 'Dec': '12'\n",
    "    }\n",
    "    month_num = month_to_num.get(month, '')\n",
    "    \n",
    "    # Randomly decide to add extra numbers or not\n",
    "    if random.choice([True, False]):\n",
    "        year = str(random.randint(1000, 9999)) + year\n",
    "    \n",
    "    # Return the dirty format\n",
    "    return f\"{year}-{month_num}\"\n",
    "\n",
    "# Test\n",
    "clean_cells = ['May-51', 'Jun-70', 'Jun-93', 'Sep-11', 'Aug-91', 'Jul-72']\n",
    "for cell in clean_cells:\n",
    "    print(f\"{cell} -> {generate_dirty(cell)}\")\n"
   ]
  },
  {
   "cell_type": "code",
   "execution_count": 20,
   "metadata": {},
   "outputs": [
    {
     "name": "stdout",
     "output_type": "stream",
     "text": [
      "True\n",
      "True\n",
      "True\n"
     ]
    }
   ],
   "source": [
    "import re\n",
    "\n",
    "def is_clean(cell):\n",
    "    # Regular expression to detect if the cell is in the format M/D/YY\n",
    "    # where M is 1-12 and D is 1-31\n",
    "    pattern = re.compile(r'^([1-9]|1[0-2])/([1-9]|[12][0-9]|3[01])/\\d{2}$')\n",
    "    return bool(pattern.match(cell))\n",
    "\n",
    "# Test\n",
    "print(is_clean('1/13/01'))  # True\n",
    "print(is_clean('4/2/15'))   # True\n",
    "print(is_clean('2/30/15'))  # False\n"
   ]
  },
  {
   "cell_type": "code",
   "execution_count": 79,
   "metadata": {},
   "outputs": [
    {
     "name": "stdout",
     "output_type": "stream",
     "text": [
      "May-51 -> May-51\n",
      "51-5 -> May-51\n",
      "Jun-70 -> Jun-70\n",
      "70-6 -> Jun-70\n",
      "Jun-93 -> Jun-93\n",
      "93-6 -> Jun-93\n",
      "11-Sep -> Sep-11\n",
      "3111-9 -> 3111-9\n",
      "Aug-91 -> Aug-91\n",
      "91-8 -> Aug-91\n",
      "Jul-72 -> Jul-72\n",
      "72-7 -> Jul-72\n",
      "Jul-71 -> Jul-71\n",
      "71-7 -> Jul-71\n",
      "Apr-41 -> Apr-41\n",
      "3541-4 -> 3541-4\n",
      "283-4 -> 283-4\n"
     ]
    }
   ],
   "source": [
    "import re\n",
    "i = 9\n",
    "def is_dirty(cell):\n",
    "    # Clean pattern\n",
    "    clean_pattern = re.compile(r'^(Jan|Feb|Mar|Apr|May|Jun|Jul|Aug|Sep|Oct|Nov|Dec)-\\d{2}$')\n",
    "    \n",
    "    # Dirty pattern\n",
    "    dirty_pattern1 = re.compile(r'^\\d{2}-(Jan|Feb|Mar|Apr|May|Jun|Jul|Aug|Sep|Oct|Nov|Dec)$')\n",
    "    dirty_pattern2 = re.compile(r'^\\d{2}-\\d$')\n",
    "    \n",
    "    if clean_pattern.match(cell):\n",
    "        return False\n",
    "    elif dirty_pattern1.match(cell) or dirty_pattern2.match(cell):\n",
    "        return True\n",
    "    else:\n",
    "        return False\n",
    "import re\n",
    "\n",
    "def correct_dirty(cell):\n",
    "    # Clean pattern\n",
    "    clean_pattern = re.compile(r'^(Jan|Feb|Mar|Apr|May|Jun|Jul|Aug|Sep|Oct|Nov|Dec)-\\d{2}$')\n",
    "    \n",
    "    # Dirty pattern\n",
    "    dirty_pattern1 = re.compile(r'^(\\d{2})-(Jan|Feb|Mar|Apr|May|Jun|Jul|Aug|Sep|Oct|Nov|Dec)$')\n",
    "    dirty_pattern2 = re.compile(r'^(\\d{2})-(\\d)$')\n",
    "    \n",
    "    # If the cell matches the clean pattern, return it as is\n",
    "    if clean_pattern.match(cell):\n",
    "        return cell\n",
    "    \n",
    "    # If the cell matches the first dirty pattern, reverse month and year\n",
    "    match = dirty_pattern1.match(cell)\n",
    "    if match:\n",
    "        return f\"{match.group(2)}-{match.group(1)}\"\n",
    "    \n",
    "    # If the cell matches the second dirty pattern, reverse month and year\n",
    "    match = dirty_pattern2.match(cell)\n",
    "    if match:\n",
    "        month_map = {\n",
    "            '1': 'Jan', '2': 'Feb', '3': 'Mar', '4': 'Apr', '5': 'May', '6': 'Jun',\n",
    "            '7': 'Jul', '8': 'Aug', '9': 'Sep', '10': 'Oct', '11': 'Nov', '12': 'Dec'\n",
    "        }\n",
    "        return f\"{month_map[match.group(2)]}-{match.group(1)}\"\n",
    "    \n",
    "    # If the cell doesn't match any pattern, return it as is\n",
    "    return cell\n",
    "\n",
    "# Test\n",
    "test_cells = ['May-51', '51-5', 'Jun-70', '70-6', 'Jun-93', '93-6', '11-Sep', '3111-9', 'Aug-91', '91-8', 'Jul-72', '72-7', 'Jul-71', '71-7', 'Apr-41', '3541-4','283-4']\n",
    "for cell in test_cells:\n",
    "    print(f\"{cell} -> {correct_dirty(cell)}\")\n",
    "\n",
    "\n"
   ]
  },
  {
   "cell_type": "code",
   "execution_count": 75,
   "metadata": {},
   "outputs": [
    {
     "data": {
      "text/plain": [
       "'Jun-93'"
      ]
     },
     "execution_count": 75,
     "metadata": {},
     "output_type": "execute_result"
    }
   ],
   "source": [
    "correct_dirty('93-6')"
   ]
  },
  {
   "cell_type": "code",
   "execution_count": 30,
   "metadata": {},
   "outputs": [
    {
     "name": "stdout",
     "output_type": "stream",
     "text": [
      "1/1/13 -> 1/13/1\n",
      "1/1/07 -> 1/07/1\n",
      "1/1/08 -> 1/08/1\n",
      "5/1/13 -> 1/13/5\n",
      "1/1/09 -> 1/09/1\n",
      "7/1/08 -> 1/08/7\n",
      "2/6/14 -> 6/14/2\n",
      "10/1/08 -> 1/08/10\n",
      "1/1/15 -> 1/15/1\n",
      "9/1/15 -> 1/15/9\n",
      "7/1/12 -> 1/12/7\n",
      "7/1/08 -> 1/08/7\n",
      "1/1/13 -> 1/13/1\n",
      "1/1/02 -> 1/02/1\n",
      "8/1/06 -> 1/06/8\n",
      "4/1/15 -> 1/15/4\n",
      "3/1/02 -> 1/02/3\n"
     ]
    }
   ],
   "source": [
    "import re\n",
    "\n",
    "def correct_date_format(date_str):\n",
    "    # Pattern to match dirty date format\n",
    "    pattern = re.compile(r'^(\\d{1,2})/(\\d{1,2})/(\\d{2})$')\n",
    "    \n",
    "    match = pattern.match(date_str)\n",
    "    if match:\n",
    "        # Swap year with month and day\n",
    "        corrected_date = f\"{match.group(2)}/{match.group(3)}/{match.group(1)}\"\n",
    "        return corrected_date\n",
    "    else:\n",
    "        # If the date doesn't match the pattern, return it as is\n",
    "        return date_str\n",
    "\n",
    "# Test\n",
    "test_dates = ['1/1/13', '1/1/07', '1/1/08', '5/1/13', '1/1/09', '7/1/08', '2/6/14', '10/1/08', '1/1/15', '9/1/15', '7/1/12', '7/1/08', '1/1/13', '1/1/02', '8/1/06', '4/1/15', '3/1/02']\n",
    "for date in test_dates:\n",
    "    print(f\"{date} -> {correct_date_format(date)}\")\n"
   ]
  },
  {
   "cell_type": "code",
   "execution_count": 33,
   "metadata": {},
   "outputs": [
    {
     "data": {
      "text/plain": [
       "'1/1/07'"
      ]
     },
     "execution_count": 33,
     "metadata": {},
     "output_type": "execute_result"
    }
   ],
   "source": [
    "import re\n",
    "\n",
    "def correct_date_format(date_str):\n",
    "    # Pattern to match dirty date format\n",
    "    pattern = re.compile(r'^(\\d{2})/(\\d{1,2})/(\\d{1,2})$')\n",
    "    \n",
    "    match = pattern.match(date_str)\n",
    "    if match:\n",
    "        year, month, day = match.groups()\n",
    "        \n",
    "        # Ensure month and day are within valid ranges\n",
    "        if 1 <= int(month) <= 12 and 1 <= int(day) <= 31:\n",
    "            # Swap year with month and day\n",
    "            corrected_date = f\"{month}/{day}/{year}\"\n",
    "            return corrected_date\n",
    "    # If the date doesn't match the pattern or is out of range, return it as is\n",
    "    return date_str\n",
    "\n",
    "# Test\n",
    "test_dates = ['13/1/01', '07/1/01', '08/1/01', '13/1/05', '09/1/01', '08/1/07', '14/6/02', '08/1/10', '15/1/01', '15/1/09', '12/1/07', '08/1/07', '13/1/01', '02/1/01', '08/1/06', '15/1/04', '02/1/03']\n",
    "# for date in test_dates:\n",
    "    # print(f\"{date} -> {correct_date_format(date)}\")\n",
    "correct_date_format('1/1/07')"
   ]
  },
  {
   "cell_type": "code",
   "execution_count": 68,
   "metadata": {},
   "outputs": [
    {
     "name": "stdout",
     "output_type": "stream",
     "text": [
      "Clean\n"
     ]
    }
   ],
   "source": [
    "def is_dirty(cell):\n",
    "    YY,MM,DD = cell.split('/')\n",
    "    YY = int(YY)\n",
    "    MM = int(MM)\n",
    "    DD = int(DD)\n",
    "    if (1 <= MM <= 12) and (1 <= DD <= 31):\n",
    "        return True ## Satisfied Dirty Pattern, maybe all value qualified dirty pattern\n",
    "    else:\n",
    "        return False \n",
    "if is_dirty('5/1/00'):\n",
    "    print('Dirty')\n",
    "else:\n",
    "    print('Clean')\n",
    "def Correct_Value(cell):\n",
    "    YY,MM,DD = cell.split('/')\n",
    "    YY = int(YY)\n",
    "    MM = int(MM)\n",
    "    DD = int(DD)\n",
    "    YY = \"{:02}\".format(YY)\n",
    "    MM = str(MM)\n",
    "    DD = str(DD)\n",
    "    return '%s/%s/%s' % (MM,DD,YY)"
   ]
  },
  {
   "cell_type": "code",
   "execution_count": 66,
   "metadata": {},
   "outputs": [
    {
     "data": {
      "text/plain": [
       "'1/6/08'"
      ]
     },
     "execution_count": 66,
     "metadata": {},
     "output_type": "execute_result"
    }
   ],
   "source": [
    "def Correct_Value(cell):\n",
    "    YY,MM,DD = cell.split('/')\n",
    "    YY = int(YY)\n",
    "    MM = int(MM)\n",
    "    DD = int(DD)\n",
    "    YY = \"{:02}\".format(YY)\n",
    "    MM = str(MM)\n",
    "    DD = str(DD)\n",
    "    return '%s/%s/%s' % (MM,DD,YY)\n",
    "Correct_Value('8/1/06')"
   ]
  },
  {
   "cell_type": "code",
   "execution_count": 42,
   "metadata": {},
   "outputs": [
    {
     "data": {
      "text/plain": [
       "'01'"
      ]
     },
     "execution_count": 42,
     "metadata": {},
     "output_type": "execute_result"
    }
   ],
   "source": [
    "\"{:02}\".format(1)"
   ]
  },
  {
   "cell_type": "code",
   "execution_count": null,
   "metadata": {},
   "outputs": [],
   "source": [
    "## Tax\n",
    "def Tax_Detect_fname(cell):\n",
    "    return bool(re.search(r\"''\", cell))\n",
    "def Tax_Generate_fname(cell):\n",
    "    # Find all positions of single quotes in the cell\n",
    "    positions = [i for i, char in enumerate(cell) if char == \"'\"]\n",
    "    \n",
    "    # If there's no single quote, return the original cell\n",
    "    if not positions:\n",
    "        return cell\n",
    "    \n",
    "    # Randomly choose a position from the positions of single quotes\n",
    "    chosen_position = random.choice(positions)\n",
    "    \n",
    "    # Insert an additional single quote at the chosen position\n",
    "    dirty_cell = cell[:chosen_position] + \"'\" + cell[chosen_position:]\n",
    "    \n",
    "    return dirty_cell\n",
    "def Tax_Correct_fname(dirty_cell):\n",
    "    return dirty_cell.replace(\"''\", \"'\")\n",
    "def Tax_Detect_city(cell):\n",
    "    return bool(re.search(r'-\\*$', cell))\n",
    "def Tax_Generate_city(cell,num_samples=5):\n",
    "    dirty_cells = []\n",
    "    for _ in range(num_samples):\n",
    "        # Randomly select a clean cell\n",
    "        clean_cell = random.choice(clean_cells)\n",
    "        # Append the dirty pattern to it\n",
    "        dirty_cell = clean_cell + '-*'\n",
    "        dirty_cells.append(dirty_cell)\n",
    "    return dirty_cells\n",
    "def Tax_Correct_city(cell):\n",
    "    # Use regex to remove the '-*' pattern from the end of the string\n",
    "    corrected_value = re.sub('-\\*$', '', cell)\n",
    "    return corrected_value\n",
    "def Tax_Detect_zip(cell):\n",
    "    return cell == '1907'\n",
    "def Tax_Generate_zip(cell):\n",
    "    return '1907'\n"
   ]
  },
  {
   "cell_type": "markdown",
   "metadata": {},
   "source": [
    "single_exemp child_exemp"
   ]
  }
 ],
 "metadata": {
  "kernelspec": {
   "display_name": "base",
   "language": "python",
   "name": "python3"
  },
  "language_info": {
   "codemirror_mode": {
    "name": "ipython",
    "version": 3
   },
   "file_extension": ".py",
   "mimetype": "text/x-python",
   "name": "python",
   "nbconvert_exporter": "python",
   "pygments_lexer": "ipython3",
   "version": "3.9.7"
  },
  "orig_nbformat": 4
 },
 "nbformat": 4,
 "nbformat_minor": 2
}
