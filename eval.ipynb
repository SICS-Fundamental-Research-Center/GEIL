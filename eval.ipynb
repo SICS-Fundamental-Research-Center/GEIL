{
 "cells": [
  {
   "cell_type": "code",
   "execution_count": 50,
   "metadata": {},
   "outputs": [
    {
     "name": "stdout",
     "output_type": "stream",
     "text": [
      "INFO: Pandarallel will run on 32 workers.\n",
      "INFO: Pandarallel will use Memory file system to transfer data between the main process and workers.\n"
     ]
    }
   ],
   "source": [
    "import numpy as np\n",
    "import pandas as pd\n",
    "from tqdm import tqdm\n",
    "tqdm.pandas(desc='pandas bar')\n",
    "from pandarallel import pandarallel\n",
    "pandarallel.initialize(progress_bar=False)"
   ]
  },
  {
   "cell_type": "markdown",
   "metadata": {},
   "source": [
    "### Evaluation for Hospital"
   ]
  },
  {
   "cell_type": "code",
   "execution_count": 8,
   "metadata": {},
   "outputs": [],
   "source": [
    "hospital_clean = pd.read_csv('GEIL_Data/hospital/original/clean.csv').astype(str)\n",
    "hospital_dirty = pd.read_csv('GEIL_Data/hospital/original/dirty.csv').astype(str)\n",
    "hospital_correction = pd.read_csv('GEIL_Data/hospital/correction/result/correction.csv',index_col=0).astype(str)\n",
    "hospital_dirty.columns = hospital_clean.columns"
   ]
  },
  {
   "cell_type": "markdown",
   "metadata": {},
   "source": [
    "#### Error Correction"
   ]
  },
  {
   "cell_type": "code",
   "execution_count": 9,
   "metadata": {},
   "outputs": [
    {
     "name": "stderr",
     "output_type": "stream",
     "text": [
      "  0%|          | 0/1000 [00:00<?, ?it/s]"
     ]
    },
    {
     "name": "stderr",
     "output_type": "stream",
     "text": [
      "100%|██████████| 1000/1000 [00:00<00:00, 1166.69it/s]\n"
     ]
    },
    {
     "data": {
      "text/plain": [
       "(0.9447731755424064, 0.9410609037328095, 0.9429133858267718)"
      ]
     },
     "execution_count": 9,
     "metadata": {},
     "output_type": "execute_result"
    }
   ],
   "source": [
    "All_Data_Error = 0\n",
    "All_Fixed_Error = 0\n",
    "Correct_Fixed_Error = 0\n",
    "clean = hospital_clean.copy()\n",
    "dirty = hospital_dirty.copy()\n",
    "correction = hospital_correction.copy()\n",
    "for i in tqdm(range(len(clean))):\n",
    "# for i in tqdm(tax_error):\n",
    "    for j in range(clean.shape[1]):\n",
    "        dirty_cell = dirty.iloc[i,j]\n",
    "        clean_cell = clean.iloc[i,j]\n",
    "        correct_cell = correction.iloc[i,j]\n",
    "        if(correct_cell!=dirty_cell):\n",
    "            All_Fixed_Error += 1\n",
    "        if(clean_cell!=dirty_cell):\n",
    "            All_Data_Error += 1\n",
    "            if(correct_cell==clean_cell):\n",
    "                Correct_Fixed_Error += 1\n",
    "Precision_hospital = Correct_Fixed_Error / All_Fixed_Error\n",
    "Recall_hospital = Correct_Fixed_Error / All_Data_Error\n",
    "F1_hospital = (2 * Precision_hospital * Recall_hospital) / (Precision_hospital + Recall_hospital)\n",
    "Precision_hospital,Recall_hospital,F1_hospital"
   ]
  },
  {
   "cell_type": "code",
   "execution_count": 13,
   "metadata": {},
   "outputs": [
    {
     "data": {
      "text/plain": [
       "(1.0, 0.9960707269155207, 0.9980314960629921)"
      ]
     },
     "execution_count": 13,
     "metadata": {},
     "output_type": "execute_result"
    }
   ],
   "source": [
    "#### Error Detection\n",
    "from sklearn.metrics import precision_score,recall_score,f1_score\n",
    "pred = np.array(dirty!=correction).astype(int).flatten()\n",
    "truth = np.array(clean!=dirty).astype(int).flatten()\n",
    "precision_score(y_true = truth,y_pred = pred),recall_score(y_true = truth,y_pred = pred),f1_score(y_true = truth,y_pred = pred)"
   ]
  },
  {
   "cell_type": "markdown",
   "metadata": {},
   "source": [
    "### Evaluation for Flights"
   ]
  },
  {
   "cell_type": "code",
   "execution_count": 21,
   "metadata": {},
   "outputs": [],
   "source": [
    "hospital_clean = pd.read_csv('GEIL_Data/flights/original/clean.csv').astype(str)\n",
    "hospital_dirty = pd.read_csv('GEIL_Data/flights/original/dirty.csv').astype(str)\n",
    "hospital_correction = pd.read_csv('GEIL_Data/flights/correction/result/correction.csv',index_col=0).iloc[:,:-1].astype(str)\n",
    "hospital_dirty.columns = hospital_clean.columns"
   ]
  },
  {
   "cell_type": "code",
   "execution_count": 22,
   "metadata": {},
   "outputs": [
    {
     "name": "stderr",
     "output_type": "stream",
     "text": [
      " 14%|█▎        | 326/2376 [00:00<00:00, 3254.38it/s]"
     ]
    },
    {
     "name": "stderr",
     "output_type": "stream",
     "text": [
      "100%|██████████| 2376/2376 [00:00<00:00, 3286.66it/s]\n"
     ]
    },
    {
     "data": {
      "text/plain": [
       "(0.9808009909165979, 0.9656504065040651, 0.9731667349446949)"
      ]
     },
     "execution_count": 22,
     "metadata": {},
     "output_type": "execute_result"
    }
   ],
   "source": [
    "All_Data_Error = 0\n",
    "All_Fixed_Error = 0\n",
    "Correct_Fixed_Error = 0\n",
    "clean = hospital_clean.copy()\n",
    "dirty = hospital_dirty.copy()\n",
    "correction = hospital_correction.copy()\n",
    "for i in tqdm(range(len(clean))):\n",
    "# for i in tqdm(tax_error):\n",
    "    for j in range(clean.shape[1]):\n",
    "        dirty_cell = dirty.iloc[i,j]\n",
    "        clean_cell = clean.iloc[i,j]\n",
    "        correct_cell = correction.iloc[i,j]\n",
    "        if(correct_cell!=dirty_cell):\n",
    "            All_Fixed_Error += 1\n",
    "        if(clean_cell!=dirty_cell):\n",
    "            All_Data_Error += 1\n",
    "            if(correct_cell==clean_cell):\n",
    "                Correct_Fixed_Error += 1\n",
    "Precision_hospital = Correct_Fixed_Error / All_Fixed_Error\n",
    "Recall_hospital = Correct_Fixed_Error / All_Data_Error\n",
    "F1_hospital = (2 * Precision_hospital * Recall_hospital) / (Precision_hospital + Recall_hospital)\n",
    "Precision_hospital,Recall_hospital,F1_hospital"
   ]
  },
  {
   "cell_type": "code",
   "execution_count": 23,
   "metadata": {},
   "outputs": [
    {
     "data": {
      "text/plain": [
       "(0.9940132122213047, 0.9786585365853658, 0.9862761163457598)"
      ]
     },
     "execution_count": 23,
     "metadata": {},
     "output_type": "execute_result"
    }
   ],
   "source": [
    "#### Error Detection\n",
    "from sklearn.metrics import precision_score,recall_score,f1_score\n",
    "pred = np.array(dirty!=correction).astype(int).flatten()\n",
    "truth = np.array(clean!=dirty).astype(int).flatten()\n",
    "precision_score(y_true = truth,y_pred = pred),recall_score(y_true = truth,y_pred = pred),f1_score(y_true = truth,y_pred = pred)"
   ]
  },
  {
   "cell_type": "markdown",
   "metadata": {},
   "source": [
    "### Evaluation for Rayyan"
   ]
  },
  {
   "cell_type": "code",
   "execution_count": 40,
   "metadata": {},
   "outputs": [],
   "source": [
    "rayyan_clean = pd.read_csv('GEIL_Data/rayyan/original/clean.csv').fillna('')\n",
    "rayyan_dirty = pd.read_csv('GEIL_Data/rayyan/original/dirty.csv').fillna('')\n",
    "rayyan_correction = pd.read_csv('GEIL_Data/rayyan/correction/result/correction.csv',index_col=0).fillna('')\n",
    "def Str2Int(row):\n",
    "    for index in range(11):\n",
    "        temp = row[index]\n",
    "        try:\n",
    "            row[index] = str(int(temp))\n",
    "        except:\n",
    "            continue\n",
    "    return row\n",
    "rayyan_clean = rayyan_clean.apply(Str2Int,axis=1)\n",
    "rayyan_dirty = rayyan_dirty.apply(Str2Int,axis=1)\n",
    "rayyan_correction = rayyan_correction.apply(Str2Int,axis=1)"
   ]
  },
  {
   "cell_type": "code",
   "execution_count": 41,
   "metadata": {},
   "outputs": [
    {
     "name": "stderr",
     "output_type": "stream",
     "text": [
      " 42%|████▏     | 418/1000 [00:00<00:00, 2085.26it/s]"
     ]
    },
    {
     "name": "stderr",
     "output_type": "stream",
     "text": [
      "100%|██████████| 1000/1000 [00:00<00:00, 2090.26it/s]\n"
     ]
    },
    {
     "data": {
      "text/plain": [
       "(0.796028880866426, 0.930379746835443, 0.8579766536964981)"
      ]
     },
     "execution_count": 41,
     "metadata": {},
     "output_type": "execute_result"
    }
   ],
   "source": [
    "All_Data_Error = 0\n",
    "All_Fixed_Error = 0\n",
    "Correct_Fixed_Error = 0\n",
    "clean = rayyan_clean.copy()\n",
    "dirty = rayyan_dirty.copy()\n",
    "correction = rayyan_correction.copy()\n",
    "for i in tqdm(range(len(clean))):\n",
    "# for i in tqdm(tax_error):\n",
    "    for j in range(clean.shape[1]):\n",
    "        dirty_cell = dirty.iloc[i,j]\n",
    "        clean_cell = clean.iloc[i,j]\n",
    "        correct_cell = correction.iloc[i,j]\n",
    "        if(correct_cell!=dirty_cell):\n",
    "            All_Fixed_Error += 1\n",
    "        if(clean_cell!=dirty_cell):\n",
    "            All_Data_Error += 1\n",
    "            if(correct_cell==clean_cell):\n",
    "                Correct_Fixed_Error += 1\n",
    "Precision_hospital = Correct_Fixed_Error / All_Fixed_Error\n",
    "Recall_hospital = Correct_Fixed_Error / All_Data_Error\n",
    "F1_hospital = (2 * Precision_hospital * Recall_hospital) / (Precision_hospital + Recall_hospital)\n",
    "Precision_hospital,Recall_hospital,F1_hospital"
   ]
  },
  {
   "cell_type": "code",
   "execution_count": 42,
   "metadata": {},
   "outputs": [
    {
     "data": {
      "text/plain": [
       "(0.8411552346570397, 0.9831223628691983, 0.9066147859922179)"
      ]
     },
     "execution_count": 42,
     "metadata": {},
     "output_type": "execute_result"
    }
   ],
   "source": [
    "from sklearn.metrics import precision_score,recall_score,f1_score\n",
    "pred = np.array(dirty!=correction).astype(int).flatten()\n",
    "truth = np.array(clean!=dirty).astype(int).flatten()\n",
    "precision_score(y_true = truth,y_pred = pred),recall_score(y_true = truth,y_pred = pred),f1_score(y_true = truth,y_pred = pred)"
   ]
  },
  {
   "cell_type": "markdown",
   "metadata": {},
   "source": [
    "### Evaluation for Tax"
   ]
  },
  {
   "cell_type": "code",
   "execution_count": 44,
   "metadata": {},
   "outputs": [
    {
     "name": "stderr",
     "output_type": "stream",
     "text": [
      "/tmp/ipykernel_16150/3963594713.py:2: DtypeWarning: Columns (12,14) have mixed types. Specify dtype option on import or set low_memory=False.\n",
      "  tax_dirty = pd.read_csv('GEIL_Data/tax/original/dirty.csv').fillna('').astype(str)\n"
     ]
    }
   ],
   "source": [
    "tax_clean = pd.read_csv('GEIL_Data/tax/original/clean.csv').fillna('').astype(str)\n",
    "tax_dirty = pd.read_csv('GEIL_Data/tax/original/dirty.csv').fillna('').astype(str)\n",
    "tax_correction = pd.read_csv('GEIL_Data/tax/correction/result/correction.csv',index_col=0).fillna('').astype(str)"
   ]
  },
  {
   "cell_type": "code",
   "execution_count": 45,
   "metadata": {},
   "outputs": [
    {
     "name": "stderr",
     "output_type": "stream",
     "text": [
      "100%|██████████| 200000/200000 [02:08<00:00, 1556.81it/s]\n"
     ]
    },
    {
     "data": {
      "text/plain": [
       "(0.9538357094365241, 0.947403910991234, 0.9506089309878214)"
      ]
     },
     "execution_count": 45,
     "metadata": {},
     "output_type": "execute_result"
    }
   ],
   "source": [
    "All_Data_Error = 0\n",
    "All_Fixed_Error = 0\n",
    "Correct_Fixed_Error = 0\n",
    "clean = tax_clean.copy()\n",
    "dirty = tax_dirty.copy()\n",
    "correction = tax_correction.copy()\n",
    "for i in tqdm(range(len(clean))):\n",
    "# for i in tqdm(tax_error):\n",
    "    for j in range(clean.shape[1]):\n",
    "        dirty_cell = dirty.iloc[i,j]\n",
    "        clean_cell = clean.iloc[i,j]\n",
    "        correct_cell = correction.iloc[i,j]\n",
    "        if(correct_cell!=dirty_cell):\n",
    "            All_Fixed_Error += 1\n",
    "        if(clean_cell!=dirty_cell):\n",
    "            All_Data_Error += 1\n",
    "            if(correct_cell==clean_cell):\n",
    "                Correct_Fixed_Error += 1\n",
    "Precision_hospital = Correct_Fixed_Error / All_Fixed_Error\n",
    "Recall_hospital = Correct_Fixed_Error / All_Data_Error\n",
    "F1_hospital = (2 * Precision_hospital * Recall_hospital) / (Precision_hospital + Recall_hospital)\n",
    "Precision_hospital,Recall_hospital,F1_hospital"
   ]
  },
  {
   "cell_type": "code",
   "execution_count": 46,
   "metadata": {},
   "outputs": [
    {
     "data": {
      "text/plain": [
       "(0.9925322471147319, 0.98583951449764, 0.9891745602165087)"
      ]
     },
     "execution_count": 46,
     "metadata": {},
     "output_type": "execute_result"
    }
   ],
   "source": [
    "from sklearn.metrics import precision_score,recall_score,f1_score\n",
    "pred = np.array(dirty!=correction).astype(int).flatten()\n",
    "truth = np.array(clean!=dirty).astype(int).flatten()\n",
    "precision_score(y_true = truth,y_pred = pred),recall_score(y_true = truth,y_pred = pred),f1_score(y_true = truth,y_pred = pred)"
   ]
  },
  {
   "cell_type": "markdown",
   "metadata": {},
   "source": [
    "### Evaluation for Beers"
   ]
  },
  {
   "cell_type": "code",
   "execution_count": 47,
   "metadata": {},
   "outputs": [],
   "source": [
    "\n",
    "beer_clean = pd.read_csv('GEIL_Data/beers/original/clean.csv').fillna('')\n",
    "beer_dirty = pd.read_csv('GEIL_Data/beers/original/dirty.csv').fillna('')\n",
    "beer_correction = pd.read_csv('GEIL_Data/beers/correction/result/correction.csv',index_col=0).fillna('')\n",
    "beer_dirty.columns = beer_clean.columns\n",
    "def try_convert_to_int(row):\n",
    "    for x,y in row.items():\n",
    "        if(x in ['ounces','ibu']):\n",
    "            try:\n",
    "                row[x] = int(y)\n",
    "            except:\n",
    "                row[x] = y\n",
    "    return row\n",
    "beer_clean = beer_clean.apply(try_convert_to_int,axis=1).astype(str)\n",
    "beer_dirty = beer_dirty.apply(try_convert_to_int,axis=1).astype(str)\n",
    "beer_correction = beer_correction.apply(try_convert_to_int,axis=1).astype(str)"
   ]
  },
  {
   "cell_type": "code",
   "execution_count": 48,
   "metadata": {},
   "outputs": [
    {
     "name": "stderr",
     "output_type": "stream",
     "text": [
      "100%|██████████| 2410/2410 [00:01<00:00, 2108.84it/s]\n"
     ]
    },
    {
     "data": {
      "text/plain": [
       "(0.9824300178677784, 0.9827226690497468, 0.9825763216679075)"
      ]
     },
     "execution_count": 48,
     "metadata": {},
     "output_type": "execute_result"
    }
   ],
   "source": [
    "All_Data_Error = 0\n",
    "All_Fixed_Error = 0\n",
    "Correct_Fixed_Error = 0\n",
    "clean = beer_clean.copy()\n",
    "dirty = beer_dirty.copy()\n",
    "correction = beer_correction.copy()\n",
    "for i in tqdm(range(len(clean))):\n",
    "# for i in tqdm(tax_error):\n",
    "    for j in range(clean.shape[1]):\n",
    "        dirty_cell = dirty.iloc[i,j]\n",
    "        clean_cell = clean.iloc[i,j]\n",
    "        correct_cell = correction.iloc[i,j]\n",
    "        if(correct_cell!=dirty_cell):\n",
    "            All_Fixed_Error += 1\n",
    "        if(clean_cell!=dirty_cell):\n",
    "            All_Data_Error += 1\n",
    "            if(correct_cell==clean_cell):\n",
    "                Correct_Fixed_Error += 1\n",
    "Precision_hospital = Correct_Fixed_Error / All_Fixed_Error\n",
    "Recall_hospital = Correct_Fixed_Error / All_Data_Error\n",
    "F1_hospital = (2 * Precision_hospital * Recall_hospital) / (Precision_hospital + Recall_hospital)\n",
    "Precision_hospital,Recall_hospital,F1_hospital"
   ]
  },
  {
   "cell_type": "code",
   "execution_count": 49,
   "metadata": {},
   "outputs": [
    {
     "data": {
      "text/plain": [
       "(0.9979154258487195, 0.998212689901698, 0.9980640357408788)"
      ]
     },
     "execution_count": 49,
     "metadata": {},
     "output_type": "execute_result"
    }
   ],
   "source": [
    "from sklearn.metrics import precision_score,recall_score,f1_score\n",
    "pred = np.array(dirty!=correction).astype(int).flatten()\n",
    "truth = np.array(clean!=dirty).astype(int).flatten()\n",
    "precision_score(y_true = truth,y_pred = pred),recall_score(y_true = truth,y_pred = pred),f1_score(y_true = truth,y_pred = pred)"
   ]
  },
  {
   "cell_type": "markdown",
   "metadata": {},
   "source": [
    "### Evaluation on IMDB Dataset\n"
   ]
  },
  {
   "cell_type": "code",
   "execution_count": 53,
   "metadata": {},
   "outputs": [],
   "source": [
    "imdb_clean = pd.read_csv('GEIL_Data/imdb/original/clean.csv').fillna('')\n",
    "imdb_dirty = pd.read_csv('GEIL_Data/imdb/original/dirty.csv').fillna('')\n",
    "imdb_correction = pd.read_csv('GEIL_Data/imdb/correction/result/correction.csv',index_col=0).fillna('')\n",
    "def Str2Int(row):\n",
    "    for index in range(6):\n",
    "        temp = row[index]\n",
    "        try:\n",
    "            row[index] = str(int(temp))\n",
    "        except:\n",
    "            continue\n",
    "    return row\n",
    "imdb_clean = imdb_clean.parallel_apply(Str2Int,axis=1)\n",
    "imdb_dirty = imdb_dirty.parallel_apply(Str2Int,axis=1)\n",
    "imdb_correction = imdb_correction.parallel_apply(Str2Int,axis=1)"
   ]
  },
  {
   "cell_type": "code",
   "execution_count": 54,
   "metadata": {},
   "outputs": [
    {
     "name": "stderr",
     "output_type": "stream",
     "text": [
      "100%|██████████| 1000000/1000000 [04:18<00:00, 3866.16it/s]\n"
     ]
    },
    {
     "data": {
      "text/plain": [
       "(0.7992240041386446, 0.8064134463139213, 0.8028026294137516)"
      ]
     },
     "execution_count": 54,
     "metadata": {},
     "output_type": "execute_result"
    }
   ],
   "source": [
    "All_Data_Error = 0\n",
    "All_Fixed_Error = 0\n",
    "Correct_Fixed_Error = 0\n",
    "clean = imdb_clean.copy()\n",
    "dirty = imdb_dirty.copy()\n",
    "correction = imdb_correction.copy()\n",
    "for i in tqdm(range(len(clean))):\n",
    "# for i in tqdm(tax_error):\n",
    "    for j in range(clean.shape[1]):\n",
    "        dirty_cell = dirty.iloc[i,j]\n",
    "        clean_cell = clean.iloc[i,j]\n",
    "        correct_cell = correction.iloc[i,j]\n",
    "        if(correct_cell!=dirty_cell):\n",
    "            All_Fixed_Error += 1\n",
    "        if(clean_cell!=dirty_cell):\n",
    "            All_Data_Error += 1\n",
    "            if(correct_cell==clean_cell):\n",
    "                Correct_Fixed_Error += 1\n",
    "Precision_hospital = Correct_Fixed_Error / All_Fixed_Error\n",
    "Recall_hospital = Correct_Fixed_Error / All_Data_Error\n",
    "F1_hospital = (2 * Precision_hospital * Recall_hospital) / (Precision_hospital + Recall_hospital)\n",
    "Precision_hospital,Recall_hospital,F1_hospital"
   ]
  },
  {
   "cell_type": "markdown",
   "metadata": {},
   "source": [
    "## Error Detection"
   ]
  },
  {
   "cell_type": "code",
   "execution_count": 55,
   "metadata": {},
   "outputs": [
    {
     "data": {
      "text/plain": [
       "(0.9826521814105881, 0.9914916569519601, 0.9870521292535271)"
      ]
     },
     "execution_count": 55,
     "metadata": {},
     "output_type": "execute_result"
    }
   ],
   "source": [
    "from sklearn.metrics import precision_score,recall_score,f1_score\n",
    "pred = np.array(dirty!=correction).astype(int).flatten()\n",
    "truth = np.array(clean!=dirty).astype(int).flatten()\n",
    "precision_score(y_true = truth,y_pred = pred),recall_score(y_true = truth,y_pred = pred),f1_score(y_true = truth,y_pred = pred)"
   ]
  }
 ],
 "metadata": {
  "kernelspec": {
   "display_name": "base",
   "language": "python",
   "name": "python3"
  },
  "language_info": {
   "codemirror_mode": {
    "name": "ipython",
    "version": 3
   },
   "file_extension": ".py",
   "mimetype": "text/x-python",
   "name": "python",
   "nbconvert_exporter": "python",
   "pygments_lexer": "ipython3",
   "version": "3.9.7"
  }
 },
 "nbformat": 4,
 "nbformat_minor": 2
}
